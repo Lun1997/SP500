{
 "cells": [
  {
   "cell_type": "markdown",
   "metadata": {},
   "source": [
    "<div class=\"alert alert-block alert-info\">\n",
    "<b>Yahoo Finance</b> : Input Ticker\n",
    "</div>"
   ]
  },
  {
   "cell_type": "code",
   "execution_count": 92,
   "metadata": {},
   "outputs": [],
   "source": [
    "import pandas as pd\n",
    "import pandas_datareader as pdr\n",
    "from datetime import datetime\n",
    "\n",
    "sd = datetime(2020,1,1)\n",
    "ed = datetime.today()#2020.10.28\n",
    "\n",
    "vix = pdr.get_data_yahoo(symbols='^vix', start=sd, end=ed)[\"Adj Close\"]\n",
    "spx = pdr.get_data_yahoo(symbols='^SP500TR', start=sd, end=ed)[\"Adj Close\"]\n",
    "vfx = pdr.get_data_yahoo(symbols='VFINX', start=sd, end=ed)[\"Adj Close\"]\n",
    "vbx = pdr.get_data_yahoo(symbols='VBMFX', start=sd, end=ed)[\"Adj Close\"]\n",
    "rom = pdr.get_data_yahoo(symbols='ROMO', start=sd, end=ed)[\"Adj Close\"]\n",
    "vmt = pdr.get_data_yahoo(symbols='VMOT', start=sd, end=ed)[\"Adj Close\"]"
   ]
  },
  {
   "cell_type": "code",
   "execution_count": 79,
   "metadata": {},
   "outputs": [],
   "source": [
    "dic={\"vix\":vix,\"vfx\":vfx,\"vbx\":vbx,\"rom\":rom,\"vmt\":vmt,\"spx\":spx}"
   ]
  },
  {
   "cell_type": "code",
   "execution_count": 80,
   "metadata": {},
   "outputs": [
    {
     "data": {
      "text/html": [
       "<div>\n",
       "<style scoped>\n",
       "    .dataframe tbody tr th:only-of-type {\n",
       "        vertical-align: middle;\n",
       "    }\n",
       "\n",
       "    .dataframe tbody tr th {\n",
       "        vertical-align: top;\n",
       "    }\n",
       "\n",
       "    .dataframe thead th {\n",
       "        text-align: right;\n",
       "    }\n",
       "</style>\n",
       "<table border=\"1\" class=\"dataframe\">\n",
       "  <thead>\n",
       "    <tr style=\"text-align: right;\">\n",
       "      <th></th>\n",
       "      <th>vix</th>\n",
       "      <th>vfx</th>\n",
       "      <th>vbx</th>\n",
       "      <th>rom</th>\n",
       "      <th>vmt</th>\n",
       "      <th>spx</th>\n",
       "    </tr>\n",
       "    <tr>\n",
       "      <th>Date</th>\n",
       "      <th></th>\n",
       "      <th></th>\n",
       "      <th></th>\n",
       "      <th></th>\n",
       "      <th></th>\n",
       "      <th></th>\n",
       "    </tr>\n",
       "  </thead>\n",
       "  <tbody>\n",
       "    <tr>\n",
       "      <th>2020-01-02</th>\n",
       "      <td>12.47</td>\n",
       "      <td>296.851990</td>\n",
       "      <td>10.895410</td>\n",
       "      <td>26.409000</td>\n",
       "      <td>25.100</td>\n",
       "      <td>6609.290039</td>\n",
       "    </tr>\n",
       "    <tr>\n",
       "      <th>2020-01-03</th>\n",
       "      <td>14.02</td>\n",
       "      <td>294.788666</td>\n",
       "      <td>10.934743</td>\n",
       "      <td>26.302999</td>\n",
       "      <td>24.910</td>\n",
       "      <td>6563.319824</td>\n",
       "    </tr>\n",
       "    <tr>\n",
       "      <th>2020-01-06</th>\n",
       "      <td>13.85</td>\n",
       "      <td>295.825256</td>\n",
       "      <td>10.924911</td>\n",
       "      <td>26.375999</td>\n",
       "      <td>25.035</td>\n",
       "      <td>6586.540039</td>\n",
       "    </tr>\n",
       "    <tr>\n",
       "      <th>2020-01-07</th>\n",
       "      <td>13.79</td>\n",
       "      <td>295.025604</td>\n",
       "      <td>10.905244</td>\n",
       "      <td>26.290001</td>\n",
       "      <td>25.090</td>\n",
       "      <td>6568.740234</td>\n",
       "    </tr>\n",
       "    <tr>\n",
       "      <th>2020-01-08</th>\n",
       "      <td>13.45</td>\n",
       "      <td>296.486694</td>\n",
       "      <td>10.885578</td>\n",
       "      <td>26.374001</td>\n",
       "      <td>25.160</td>\n",
       "      <td>6601.149902</td>\n",
       "    </tr>\n",
       "  </tbody>\n",
       "</table>\n",
       "</div>"
      ],
      "text/plain": [
       "              vix         vfx        vbx        rom     vmt          spx\n",
       "Date                                                                    \n",
       "2020-01-02  12.47  296.851990  10.895410  26.409000  25.100  6609.290039\n",
       "2020-01-03  14.02  294.788666  10.934743  26.302999  24.910  6563.319824\n",
       "2020-01-06  13.85  295.825256  10.924911  26.375999  25.035  6586.540039\n",
       "2020-01-07  13.79  295.025604  10.905244  26.290001  25.090  6568.740234\n",
       "2020-01-08  13.45  296.486694  10.885578  26.374001  25.160  6601.149902"
      ]
     },
     "execution_count": 80,
     "metadata": {},
     "output_type": "execute_result"
    }
   ],
   "source": [
    "data=pandas.DataFrame(dic)\n",
    "data.head()"
   ]
  },
  {
   "cell_type": "code",
   "execution_count": 81,
   "metadata": {},
   "outputs": [],
   "source": [
    "data.to_csv(\"測試資料.csv\")"
   ]
  }
 ],
 "metadata": {
  "kernelspec": {
   "display_name": "Python 3",
   "language": "python",
   "name": "python3"
  },
  "language_info": {
   "codemirror_mode": {
    "name": "ipython",
    "version": 3
   },
   "file_extension": ".py",
   "mimetype": "text/x-python",
   "name": "python",
   "nbconvert_exporter": "python",
   "pygments_lexer": "ipython3",
   "version": "3.6.10"
  }
 },
 "nbformat": 4,
 "nbformat_minor": 4
}
