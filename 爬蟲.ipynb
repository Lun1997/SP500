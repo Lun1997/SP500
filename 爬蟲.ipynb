{
 "cells": [
  {
   "cell_type": "markdown",
   "metadata": {},
   "source": [
    "<div class=\"alert alert-block alert-info\">\n",
    "<b>Yahoo Finance</b> : Input Ticker\n",
    "</div>"
   ]
  },
  {
   "cell_type": "code",
   "execution_count": 1,
   "metadata": {},
   "outputs": [],
   "source": [
    "import pandas as pd\n",
    "import numpy as np\n",
    "import pandas_datareader as pdr\n",
    "import datetime as dt\n",
    "\n",
    "sd = dt.datetime(1990,1,2)\n",
    "ed = dt.datetime(2019,9,29)\n",
    "\n",
    "vix = pdr.get_data_yahoo(symbols='^vix', start=sd, end=ed)[\"Adj Close\"]\n",
    "spx = pdr.get_data_yahoo(symbols='^SP500TR', start=sd, end=ed)[\"Adj Close\"]\n",
    "vfx = pdr.get_data_yahoo(symbols='VFINX', start=sd, end=ed)[\"Adj Close\"]\n",
    "vbx = pdr.get_data_yahoo(symbols='VBMFX', start=sd, end=ed)[\"Adj Close\"]\n",
    "#rom = pdr.get_data_yahoo(symbols='ROMO', start=sd, end=ed)[\"Adj Close\"]\n",
    "#vmt = pdr.get_data_yahoo(symbols='VMOT', start=sd, end=ed)[\"Adj Close\"]"
   ]
  },
  {
   "cell_type": "code",
   "execution_count": 2,
   "metadata": {},
   "outputs": [],
   "source": [
    "dic={\"VIX\":vix,\"S&P500\":spx,\"VBMFX\":vbx,\"VFINX\":vfx}"
   ]
  },
  {
   "cell_type": "code",
   "execution_count": 3,
   "metadata": {},
   "outputs": [
    {
     "data": {
      "text/html": [
       "<div>\n",
       "<style scoped>\n",
       "    .dataframe tbody tr th:only-of-type {\n",
       "        vertical-align: middle;\n",
       "    }\n",
       "\n",
       "    .dataframe tbody tr th {\n",
       "        vertical-align: top;\n",
       "    }\n",
       "\n",
       "    .dataframe thead th {\n",
       "        text-align: right;\n",
       "    }\n",
       "</style>\n",
       "<table border=\"1\" class=\"dataframe\">\n",
       "  <thead>\n",
       "    <tr style=\"text-align: right;\">\n",
       "      <th></th>\n",
       "      <th>VIX</th>\n",
       "      <th>S&amp;P500</th>\n",
       "      <th>VBMFX</th>\n",
       "      <th>VFINX</th>\n",
       "    </tr>\n",
       "  </thead>\n",
       "  <tbody>\n",
       "    <tr>\n",
       "      <th>1990-01-02</th>\n",
       "      <td>17.240000</td>\n",
       "      <td>386.160004</td>\n",
       "      <td>2.130147</td>\n",
       "      <td>18.530552</td>\n",
       "    </tr>\n",
       "    <tr>\n",
       "      <th>1990-01-03</th>\n",
       "      <td>18.190001</td>\n",
       "      <td>385.170013</td>\n",
       "      <td>2.125629</td>\n",
       "      <td>18.481844</td>\n",
       "    </tr>\n",
       "    <tr>\n",
       "      <th>1990-01-04</th>\n",
       "      <td>19.219999</td>\n",
       "      <td>382.019989</td>\n",
       "      <td>2.127887</td>\n",
       "      <td>18.330301</td>\n",
       "    </tr>\n",
       "    <tr>\n",
       "      <th>1990-01-05</th>\n",
       "      <td>20.110001</td>\n",
       "      <td>378.299988</td>\n",
       "      <td>2.125629</td>\n",
       "      <td>18.151703</td>\n",
       "    </tr>\n",
       "    <tr>\n",
       "      <th>1990-01-08</th>\n",
       "      <td>20.260000</td>\n",
       "      <td>380.040009</td>\n",
       "      <td>2.123372</td>\n",
       "      <td>18.238300</td>\n",
       "    </tr>\n",
       "  </tbody>\n",
       "</table>\n",
       "</div>"
      ],
      "text/plain": [
       "                  VIX      S&P500     VBMFX      VFINX\n",
       "1990-01-02  17.240000  386.160004  2.130147  18.530552\n",
       "1990-01-03  18.190001  385.170013  2.125629  18.481844\n",
       "1990-01-04  19.219999  382.019989  2.127887  18.330301\n",
       "1990-01-05  20.110001  378.299988  2.125629  18.151703\n",
       "1990-01-08  20.260000  380.040009  2.123372  18.238300"
      ]
     },
     "execution_count": 3,
     "metadata": {},
     "output_type": "execute_result"
    }
   ],
   "source": [
    "data=pd.DataFrame(dic)\n",
    "#index為datetime形式資料，轉成字串\n",
    "data.index=data.index.format()\n",
    "\n",
    "data.head()"
   ]
  },
  {
   "cell_type": "code",
   "execution_count": 81,
   "metadata": {},
   "outputs": [],
   "source": [
    "data.to_csv(\"建模資料.csv\")"
   ]
  }
 ],
 "metadata": {
  "kernelspec": {
   "display_name": "Python 3",
   "language": "python",
   "name": "python3"
  },
  "language_info": {
   "codemirror_mode": {
    "name": "ipython",
    "version": 3
   },
   "file_extension": ".py",
   "mimetype": "text/x-python",
   "name": "python",
   "nbconvert_exporter": "python",
   "pygments_lexer": "ipython3",
   "version": "3.7.9"
  }
 },
 "nbformat": 4,
 "nbformat_minor": 4
}
